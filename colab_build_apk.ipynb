# Build APK para Biog�s nas Escolas no Google Colab

# Instalar Buildozer
!pip install buildozer

# Instalar depend�ncias do sistema
!sudo apt update
!sudo apt install -y     git     zip     unzip     openjdk-17-jdk     python3-pip     autoconf     libtool     pkg-config     zlib1g-dev     libncurses5-dev     libncursesw5-dev     libtinfo5     cmake     libffi-dev     libssl-dev

# Configurar vari�veis de ambiente
import os
os.environ['JAVA_HOME'] = '/usr/lib/jvm/java-17-openjdk-amd64'
os.environ['PATH'] = f"{os.environ['JAVA_HOME']}/bin:{os.environ['PATH']}"

# Clonar o reposit�rio (substitua pela URL do seu reposit�rio)
!git clone https://github.com/seu-usuario/biogas_app.git
%cd biogas_app

# Copiar arquivos do projeto para o Colab
# (Voc� precisar� fazer upload dos arquivos manualmente ou conectar com Google Drive)

# Criar buildozer.spec se n�o existir
!buildozer init

# Configurar buildozer.spec para Android
buildozer_spec = '''
[app]
title = Biog�s nas Escolas
package.name = biogasapp
package.domain = br.edu.unila
source.dir = .
source.include_exts = py,png,jpg,kv,atlas,db
source.include_patterns = assets/*,kv/*,media/*
version = 0.1
requirements = python3,kivy==2.3.1,plyer,sqlite3
orientation = portrait
fullscreen = 0
android.permissions = INTERNET,CAMERA,READ_EXTERNAL_STORAGE,WRITE_EXTERNAL_STORAGE
android.api = 30
android.minapi = 21
android.ndk_api = 21
android.accept_sdk_license = True
android.arch = arm64-v8a
android.allow_backup = True

[buildozer]
log_level = 2
'''

with open('buildozer.spec', 'w') as f:
    f.write(buildozer_spec)

# Fazer o build do APK
!buildozer -v android debug

# Verificar se o APK foi criado
import glob
apk_files = glob.glob('bin/*.apk')
if apk_files:
    print(f"APK criado com sucesso: {apk_files[0]}")
    # Fazer download do APK
    from google.colab import files
    files.download(apk_files[0])
else:
    print("Erro: APK n�o foi criado")
